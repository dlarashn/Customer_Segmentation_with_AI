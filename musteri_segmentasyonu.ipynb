{
 "cells": [
  {
   "cell_type": "markdown",
   "id": "4ab42880-f571-4aff-b011-8ee910e97b61",
   "metadata": {},
   "source": [
    "Yapay Zeka ile Müşteri Segmentasyonu"
   ]
  },
  {
   "cell_type": "markdown",
   "id": "a4d9b6c6-efde-4a16-9777-d2b9f40adca8",
   "metadata": {},
   "source": [
    "AVM yönetimi müşterilerin verilerine göre gruplama yapacaktır."
   ]
  },
  {
   "cell_type": "markdown",
   "id": "a0e068ff-e0e2-466a-890c-8ef97148b84a",
   "metadata": {},
   "source": [
    "K-means algoritması kullanarak öncelikle müşterilerin kaç gruba ayrılacağını belirleyeceğiz. Sonra da tüm müşterileri gruplara dahil edeceğiz."
   ]
  },
  {
   "cell_type": "code",
   "execution_count": 6,
   "id": "7dbb2022-0d4e-46dc-899c-1c89a6dbbd49",
   "metadata": {},
   "outputs": [],
   "source": [
    "from sklearn.cluster import KMeans\n",
    "import pandas as pd\n",
    "from sklearn.preprocessing import MinMaxScaler\n",
    "import matplotlib.pyplot as plt"
   ]
  },
  {
   "cell_type": "code",
   "execution_count": 8,
   "id": "939e1240-1e37-432b-a496-f3feefc93536",
   "metadata": {},
   "outputs": [
    {
     "data": {
      "text/html": [
       "<div>\n",
       "<style scoped>\n",
       "    .dataframe tbody tr th:only-of-type {\n",
       "        vertical-align: middle;\n",
       "    }\n",
       "\n",
       "    .dataframe tbody tr th {\n",
       "        vertical-align: top;\n",
       "    }\n",
       "\n",
       "    .dataframe thead th {\n",
       "        text-align: right;\n",
       "    }\n",
       "</style>\n",
       "<table border=\"1\" class=\"dataframe\">\n",
       "  <thead>\n",
       "    <tr style=\"text-align: right;\">\n",
       "      <th></th>\n",
       "      <th>CustomerID</th>\n",
       "      <th>Annual Income (k$)</th>\n",
       "      <th>Spending Score (1-100)</th>\n",
       "    </tr>\n",
       "  </thead>\n",
       "  <tbody>\n",
       "    <tr>\n",
       "      <th>0</th>\n",
       "      <td>1</td>\n",
       "      <td>15</td>\n",
       "      <td>39</td>\n",
       "    </tr>\n",
       "    <tr>\n",
       "      <th>1</th>\n",
       "      <td>2</td>\n",
       "      <td>15</td>\n",
       "      <td>81</td>\n",
       "    </tr>\n",
       "    <tr>\n",
       "      <th>2</th>\n",
       "      <td>3</td>\n",
       "      <td>16</td>\n",
       "      <td>6</td>\n",
       "    </tr>\n",
       "    <tr>\n",
       "      <th>3</th>\n",
       "      <td>4</td>\n",
       "      <td>16</td>\n",
       "      <td>77</td>\n",
       "    </tr>\n",
       "    <tr>\n",
       "      <th>4</th>\n",
       "      <td>5</td>\n",
       "      <td>17</td>\n",
       "      <td>40</td>\n",
       "    </tr>\n",
       "  </tbody>\n",
       "</table>\n",
       "</div>"
      ],
      "text/plain": [
       "   CustomerID  Annual Income (k$)  Spending Score (1-100)\n",
       "0           1                  15                      39\n",
       "1           2                  15                      81\n",
       "2           3                  16                       6\n",
       "3           4                  16                      77\n",
       "4           5                  17                      40"
      ]
     },
     "execution_count": 8,
     "metadata": {},
     "output_type": "execute_result"
    }
   ],
   "source": [
    "df = pd.read_csv('Avm_Musterileri.csv')\n",
    "df.head()"
   ]
  },
  {
   "cell_type": "code",
   "execution_count": 10,
   "id": "7bd4c7f5-a878-428a-8d1e-31609f6a1897",
   "metadata": {},
   "outputs": [
    {
     "data": {
      "image/png": "[encoded data removed]",
      "text/plain": [
       "<Figure size 640x480 with 1 Axes>"
      ]
     },
     "metadata": {},
     "output_type": "display_data"
    }
   ],
   "source": [
    "plt.scatter(df['Annual Income (k$)'], df['Spending Score (1-100)'])\n",
    "plt.xlabel('Annual Income')\n",
    "plt.ylabel('Spending Score')\n",
    "plt.show()"
   ]
  },
  {
   "cell_type": "markdown",
   "id": "d2190ae9-f53f-4ded-b216-be92d2c1aaaa",
   "metadata": {},
   "source": [
    "Bazı sütun isimlerini kısaltalım:"
   ]
  },
  {
   "cell_type": "code",
   "execution_count": 13,
   "id": "21f64f29-22cc-491c-8234-245232a27e86",
   "metadata": {},
   "outputs": [],
   "source": [
    "df.rename(columns = {'Annual Income (k$)':'income'}, inplace = True)\n",
    "df.rename(columns = {'Spending Score (1-100)':'score'}, inplace = True)"
   ]
  },
  {
   "cell_type": "markdown",
   "id": "d2c2e2b0-9374-4d20-a0eb-5e7f14fbe952",
   "metadata": {},
   "source": [
    "Verileri normaliza edelim"
   ]
  },
  {
   "cell_type": "code",
   "execution_count": 22,
   "id": "ce9cdd74-a3f6-4219-acd5-adb2844c74da",
   "metadata": {},
   "outputs": [
    {
     "data": {
      "text/html": [
       "<div>\n",
       "<style scoped>\n",
       "    .dataframe tbody tr th:only-of-type {\n",
       "        vertical-align: middle;\n",
       "    }\n",
       "\n",
       "    .dataframe tbody tr th {\n",
       "        vertical-align: top;\n",
       "    }\n",
       "\n",
       "    .dataframe thead th {\n",
       "        text-align: right;\n",
       "    }\n",
       "</style>\n",
       "<table border=\"1\" class=\"dataframe\">\n",
       "  <thead>\n",
       "    <tr style=\"text-align: right;\">\n",
       "      <th></th>\n",
       "      <th>CustomerID</th>\n",
       "      <th>income_scaled</th>\n",
       "      <th>score_scaled</th>\n",
       "    </tr>\n",
       "  </thead>\n",
       "  <tbody>\n",
       "    <tr>\n",
       "      <th>0</th>\n",
       "      <td>1</td>\n",
       "      <td>0.000000</td>\n",
       "      <td>0.387755</td>\n",
       "    </tr>\n",
       "    <tr>\n",
       "      <th>1</th>\n",
       "      <td>2</td>\n",
       "      <td>0.000000</td>\n",
       "      <td>0.816327</td>\n",
       "    </tr>\n",
       "    <tr>\n",
       "      <th>2</th>\n",
       "      <td>3</td>\n",
       "      <td>0.008197</td>\n",
       "      <td>0.051020</td>\n",
       "    </tr>\n",
       "    <tr>\n",
       "      <th>3</th>\n",
       "      <td>4</td>\n",
       "      <td>0.008197</td>\n",
       "      <td>0.775510</td>\n",
       "    </tr>\n",
       "    <tr>\n",
       "      <th>4</th>\n",
       "      <td>5</td>\n",
       "      <td>0.016393</td>\n",
       "      <td>0.397959</td>\n",
       "    </tr>\n",
       "  </tbody>\n",
       "</table>\n",
       "</div>"
      ],
      "text/plain": [
       "   CustomerID  income_scaled  score_scaled\n",
       "0           1       0.000000      0.387755\n",
       "1           2       0.000000      0.816327\n",
       "2           3       0.008197      0.051020\n",
       "3           4       0.008197      0.775510\n",
       "4           5       0.016393      0.397959"
      ]
     },
     "execution_count": 22,
     "metadata": {},
     "output_type": "execute_result"
    }
   ],
   "source": [
    "from sklearn.preprocessing import MinMaxScaler\n",
    "\n",
    "# MinMaxScaler nesnesini oluştur\n",
    "scaler = MinMaxScaler()\n",
    "\n",
    "# 'income' ve 'score' sütunlarını ayrı ayrı ölçeklendirip DataFrame'e ekle\n",
    "df['income_scaled'] = scaler.fit_transform(df[['income']])\n",
    "df['score_scaled'] = scaler.fit_transform(df[['score']])\n",
    "\n",
    "df = df.drop(columns=['income', 'score'])\n",
    "df.head()"
   ]
  },
  {
   "cell_type": "markdown",
   "id": "d3591d75-a9de-4289-a0f5-8f8a92d72ba1",
   "metadata": {},
   "source": [
    "K-means modeli oluşturup fit ediyoruz."
   ]
  },
  {
   "cell_type": "code",
   "execution_count": 51,
   "id": "d6dd32f2-34ef-4add-bfbe-fea7fbcddfa5",
   "metadata": {},
   "outputs": [
    {
     "data": {
      "text/plain": [
       "array([2, 3, 2, 3, 2, 3, 2, 3, 2, 3, 2, 3, 2, 3, 2, 3, 2, 3, 2, 3, 2, 3,\n",
       "       2, 3, 2, 3, 2, 3, 2, 3, 2, 3, 2, 3, 2, 3, 2, 3, 2, 3, 2, 3, 2, 0,\n",
       "       2, 3, 0, 0, 0, 0, 0, 0, 0, 0, 0, 0, 0, 0, 0, 0, 0, 0, 0, 0, 0, 0,\n",
       "       0, 0, 0, 0, 0, 0, 0, 0, 0, 0, 0, 0, 0, 0, 0, 0, 0, 0, 0, 0, 0, 0,\n",
       "       0, 0, 0, 0, 0, 0, 0, 0, 0, 0, 0, 0, 0, 0, 0, 0, 0, 0, 0, 0, 0, 0,\n",
       "       0, 0, 0, 0, 0, 0, 0, 0, 0, 0, 0, 0, 0, 4, 1, 4, 0, 4, 1, 4, 1, 4,\n",
       "       1, 4, 1, 4, 1, 4, 1, 4, 1, 4, 0, 4, 1, 4, 1, 4, 1, 4, 1, 4, 1, 4,\n",
       "       1, 4, 1, 4, 1, 4, 1, 4, 1, 4, 1, 4, 1, 4, 1, 4, 1, 4, 1, 4, 1, 4,\n",
       "       1, 4, 1, 4, 1, 4, 1, 4, 1, 4, 1, 4, 1, 4, 1, 4, 1, 4, 1, 4, 1, 4,\n",
       "       1, 4])"
      ]
     },
     "execution_count": 51,
     "metadata": {},
     "output_type": "execute_result"
    }
   ],
   "source": [
    "kmeans = KMeans(n_clusters = 5)\n",
    "y_predicted = kmeans.fit_predict(df[['income_scaled','score_scaled']])\n",
    "y_predicted"
   ]
  },
  {
   "cell_type": "markdown",
   "id": "228845ec-548d-4034-ab6a-b06399461b64",
   "metadata": {},
   "source": [
    "Tahmin edilen değerleri bir sütun olarak ekliyoruz."
   ]
  },
  {
   "cell_type": "code",
   "execution_count": 54,
   "id": "59562d48-8035-4099-b9c7-d3661d65aab1",
   "metadata": {},
   "outputs": [
    {
     "data": {
      "text/html": [
       "<div>\n",
       "<style scoped>\n",
       "    .dataframe tbody tr th:only-of-type {\n",
       "        vertical-align: middle;\n",
       "    }\n",
       "\n",
       "    .dataframe tbody tr th {\n",
       "        vertical-align: top;\n",
       "    }\n",
       "\n",
       "    .dataframe thead th {\n",
       "        text-align: right;\n",
       "    }\n",
       "</style>\n",
       "<table border=\"1\" class=\"dataframe\">\n",
       "  <thead>\n",
       "    <tr style=\"text-align: right;\">\n",
       "      <th></th>\n",
       "      <th>CustomerID</th>\n",
       "      <th>income_scaled</th>\n",
       "      <th>score_scaled</th>\n",
       "      <th>cluster</th>\n",
       "    </tr>\n",
       "  </thead>\n",
       "  <tbody>\n",
       "    <tr>\n",
       "      <th>0</th>\n",
       "      <td>1</td>\n",
       "      <td>0.000000</td>\n",
       "      <td>0.387755</td>\n",
       "      <td>2</td>\n",
       "    </tr>\n",
       "    <tr>\n",
       "      <th>1</th>\n",
       "      <td>2</td>\n",
       "      <td>0.000000</td>\n",
       "      <td>0.816327</td>\n",
       "      <td>3</td>\n",
       "    </tr>\n",
       "    <tr>\n",
       "      <th>2</th>\n",
       "      <td>3</td>\n",
       "      <td>0.008197</td>\n",
       "      <td>0.051020</td>\n",
       "      <td>2</td>\n",
       "    </tr>\n",
       "    <tr>\n",
       "      <th>3</th>\n",
       "      <td>4</td>\n",
       "      <td>0.008197</td>\n",
       "      <td>0.775510</td>\n",
       "      <td>3</td>\n",
       "    </tr>\n",
       "    <tr>\n",
       "      <th>4</th>\n",
       "      <td>5</td>\n",
       "      <td>0.016393</td>\n",
       "      <td>0.397959</td>\n",
       "      <td>2</td>\n",
       "    </tr>\n",
       "  </tbody>\n",
       "</table>\n",
       "</div>"
      ],
      "text/plain": [
       "   CustomerID  income_scaled  score_scaled  cluster\n",
       "0           1       0.000000      0.387755        2\n",
       "1           2       0.000000      0.816327        3\n",
       "2           3       0.008197      0.051020        2\n",
       "3           4       0.008197      0.775510        3\n",
       "4           5       0.016393      0.397959        2"
      ]
     },
     "execution_count": 54,
     "metadata": {},
     "output_type": "execute_result"
    }
   ],
   "source": [
    "df['cluster'] = y_predicted\n",
    "df.head()"
   ]
  },
  {
   "cell_type": "code",
   "execution_count": 56,
   "id": "0f51c7bc-f530-4f31-903f-6a9d45f4e413",
   "metadata": {},
   "outputs": [
    {
     "data": {
      "text/plain": [
       "<matplotlib.collections.PathCollection at 0x28977c04ad0>"
      ]
     },
     "execution_count": 56,
     "metadata": {},
     "output_type": "execute_result"
    },
    {
     "data": {
      "image/png": "[encoded data removed]",
      "text/plain": [
       "<Figure size 640x480 with 1 Axes>"
      ]
     },
     "metadata": {},
     "output_type": "display_data"
    }
   ],
   "source": [
    "df1 = df[df.cluster == 0]\n",
    "df2 = df[df.cluster == 1]\n",
    "df3 = df[df.cluster == 2]\n",
    "df4 = df[df.cluster == 3]\n",
    "df5 = df[df.cluster == 4]\n",
    "\n",
    "plt.xlabel('income')\n",
    "plt.ylabel('score')\n",
    "plt.scatter(df1['income_scaled'],df1['score_scaled'],color='green')\n",
    "plt.scatter(df2['income_scaled'],df2['score_scaled'],color='red')\n",
    "plt.scatter(df3['income_scaled'],df3['score_scaled'],color='black')\n",
    "plt.scatter(df4['income_scaled'],df4['score_scaled'],color='orange')\n",
    "plt.scatter(df5['income_scaled'],df5['score_scaled'],color='purple')"
   ]
  },
  {
   "cell_type": "code",
   "execution_count": null,
   "id": "d519707b-c8ac-45b3-b807-1fe162608778",
   "metadata": {},
   "outputs": [],
   "source": []
  }
 ],
 "metadata": {
  "kernelspec": {
   "display_name": "Python 3 (ipykernel)",
   "language": "python",
   "name": "python3"
  },
  "language_info": {
   "codemirror_mode": {
    "name": "ipython",
    "version": 3
   },
   "file_extension": ".py",
   "mimetype": "text/x-python",
   "name": "python",
   "nbconvert_exporter": "python",
   "pygments_lexer": "ipython3",
   "version": "3.11.7"
  }
 },
 "nbformat": 4,
 "nbformat_minor": 5
}
